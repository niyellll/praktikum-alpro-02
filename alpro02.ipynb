{
  "nbformat": 4,
  "nbformat_minor": 0,
  "metadata": {
    "colab": {
      "provenance": []
    },
    "kernelspec": {
      "name": "python3",
      "display_name": "Python 3"
    },
    "language_info": {
      "name": "python"
    }
  },
  "cells": [
    {
      "cell_type": "markdown",
      "source": [
        "Soal Latihan 2.1 Buatlah program yang dapat menghitung berat badan yang diperlukan, jika diketahui tinggi badan dan nilai Body Mass Index (BMI) yang diharapkan! Body Mass Index\n",
        "dihitung dengan cara: BMI = berat / tinggi**2\n",
        " Perhatikan, berat badan dalam satuan kilogram (kg) dan tinggi badan dalam satuan meter (m)"
      ],
      "metadata": {
        "id": "8WkgT_0WGx5V"
      }
    },
    {
      "cell_type": "code",
      "source": [
        "def hitung_berat_badan(tinggi_badan, bmi):\n",
        "    tinggi_badan = float(tinggi_badan )\n",
        "    bmi = float(bmi)\n",
        "    berat_badan =(bmi * tinggi_badan**2)\n",
        "    return  round (berat_badan)\n",
        "\n",
        "tinggi_badan = float(input(\"masukan tinggi anda = \"))\n",
        "bmi = float(input(\"Masukan nilai bmi= \"))\n",
        "berat_badan = hitung_berat_badan(tinggi_badan, bmi)\n",
        "print(berat_badan)"
      ],
      "metadata": {
        "colab": {
          "base_uri": "https://localhost:8080/"
        },
        "id": "CKkXiO7xGzjm",
        "outputId": "a4511527-d111-42af-e38e-db10969b06b3"
      },
      "execution_count": 4,
      "outputs": [
        {
          "output_type": "stream",
          "name": "stdout",
          "text": [
            "masukan tinggi anda = 1.7\n",
            "Masukan nilai bmi= 23\n",
            "66\n"
          ]
        }
      ]
    },
    {
      "cell_type": "markdown",
      "source": [
        "Latihan 2.2 Buatlah program yang dapat menghitung hasil dari fungsi f(x) = 2x**3 + 2x + 15/x\n",
        "di mana x merupakan bilangan bulat yang dimasukkan oleh pengguna."
      ],
      "metadata": {
        "id": "aM9MQssJHl9w"
      }
    },
    {
      "cell_type": "markdown",
      "source": [],
      "metadata": {
        "id": "3VAROcJlG4ZS"
      }
    },
    {
      "cell_type": "code",
      "source": [
        "x = int(input(\"Masukan angka x dengan bilangan bulat: \"))\n",
        "\n",
        "hasil= round (2*x**3 + 2*x + 15 / x)\n",
        "\n",
        "\n",
        "print(\"hasilnya \", hasil)"
      ],
      "metadata": {
        "colab": {
          "base_uri": "https://localhost:8080/"
        },
        "id": "Twh9tBB-IaaW",
        "outputId": "191ed8b8-82f2-40af-e1aa-f0f3cf893029"
      },
      "execution_count": 5,
      "outputs": [
        {
          "output_type": "stream",
          "name": "stdout",
          "text": [
            "Masukan angka x dengan bilangan bulat: 4\n",
            "hasilnya  140\n"
          ]
        }
      ]
    },
    {
      "cell_type": "markdown",
      "source": [
        "Latihan 2.3 Budi tertarik untuk melamar pekerjaan pada liburan semester yang akan berlangsung selama 5 minggu. Gaji yang diberikan adalah gaji per jam. Total pajak yang harus budi\n",
        "bayarkan dari penghasilannya selama bekerja adalah 14%. Setelah membayar pajak, budi\n",
        "menghabiskan 10% dari pendapatan bersihnya untuk membeli baju dan aksesoris yang akan\n",
        "digunakan pada semester baru, dan 1% untuk membeli alat tulis. Setelah membeli baju, aksesoris dan alat tulis, Budi menggunakan 25% dari sisa uangnya untuk disedekahkan. Setiap\n",
        "Rp.1000 yang Budi sedekahkan 30% nya akan diserahkan kepada anak yatim, dan sisanya akan\n",
        "diserahkan ke kaum dhuafa.\n",
        "\n",
        "Buatlah sebuah program, dengan input:\n",
        "1. Gaji per jam yang anda inginkan\n",
        "2. Jumlah jam kerja yang akan dilakukan dalam 1 minggu\n",
        "Output dari program adalah sebagai berikut :\n",
        "1. Pendapatan Budi selama libur musim panas sebelum melakukan pembayaran pajak.\n",
        "2. Pendapatan Budi selama libur musim panas setelah melakukan pembayaran pajak.\n",
        "3. Jumlah uang yang akan Budi habiskan untuk membeli pakaian dan aksesoris.\n",
        "4. Jumlah uang yang akan Budi habiskan untuk membeli alat tulis.\n",
        "5. Jumlah uang yang akan Budi sedekahkan.\n",
        "6. Jumlah uang yang akan diterima anak yatim.\n",
        "7. Jumlah uang yang akan diterima kaum dhuafa."
      ],
      "metadata": {
        "id": "HoUAIWzmIjAm"
      }
    },
    {
      "cell_type": "code",
      "source": [
        "def pendapatan (gaji_per_jam,jam_kerja):\n",
        "    hasil_kerja = gaji_per_jam * jam_kerja * 5\n",
        "    pajak = hasil_kerja * 0.14\n",
        "    setelah_pajak = hasil_kerja - pajak\n",
        "    baju_aksesoris = setelah_pajak* 0.10\n",
        "    alat_tulis= setelah_pajak* 0.01\n",
        "    sisa_uang= setelah_pajak - baju_aksesoris - alat_tulis\n",
        "    sedekah = sisa_uang * 0.25\n",
        "    anak_yatim = sedekah * 0.30\n",
        "    kaum_dhuafa = sedekah - anak_yatim\n",
        "\n",
        "    print(\"1. Pendapatan Budi selama libur musim panas sebelum melakukan pembayaran pajak:\", round(hasil_kerja))\n",
        "    print(\"2. Pendapatan Budi selama libur musim panas setelah melakukan pembayaran pajak:\", round(setelah_pajak))\n",
        "    print(\"3. Jumlah uang yang akan Budi habiskan untuk membeli pakaian dan aksesoris:\", round(baju_aksesoris))\n",
        "    print(\"4. Jumlah uang yang akan Budi habiskan untuk membeli alat tulis:\", round(alat_tulis))\n",
        "    print(\"5. Jumlah uang yang akan Budi sedekahkan:\",round(sedekah))\n",
        "    print(\"6. Jumlah uang yang akan diterima anak yatim:\", round(anak_yatim))\n",
        "    print(\"7. Jumlah uang yang akan diterima kaum dhuafa:\", round(kaum_dhuafa))\n",
        "\n",
        "gaji_per_jam = float(input(\"Masukkan gaji per jam yang anda inginkan: \"))\n",
        "jam_kerja = int(input(\"Masukkan jumlah jam kerja yang akan dilakukan dalam 1 minggu: \"))\n",
        "\n",
        "pendapatan(gaji_per_jam, jam_kerja)"
      ],
      "metadata": {
        "colab": {
          "base_uri": "https://localhost:8080/"
        },
        "id": "FenGZURyIyPI",
        "outputId": "024489e2-83fd-42c9-ce7a-b08ea5aa919f"
      },
      "execution_count": 7,
      "outputs": [
        {
          "output_type": "stream",
          "name": "stdout",
          "text": [
            "Masukkan gaji per jam yang anda inginkan: 69000\n",
            "Masukkan jumlah jam kerja yang akan dilakukan dalam 1 minggu: 23\n",
            "1. Pendapatan Budi selama libur musim panas sebelum melakukan pembayaran pajak: 7935000\n",
            "2. Pendapatan Budi selama libur musim panas setelah melakukan pembayaran pajak: 6824100\n",
            "3. Jumlah uang yang akan Budi habiskan untuk membeli pakaian dan aksesoris: 682410\n",
            "4. Jumlah uang yang akan Budi habiskan untuk membeli alat tulis: 68241\n",
            "5. Jumlah uang yang akan Budi sedekahkan: 1518362\n",
            "6. Jumlah uang yang akan diterima anak yatim: 455509\n",
            "7. Jumlah uang yang akan diterima kaum dhuafa: 1062854\n"
          ]
        }
      ]
    }
  ]
}